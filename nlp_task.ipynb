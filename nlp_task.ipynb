{
 "cells": [
  {
   "cell_type": "code",
   "id": "initial_id",
   "metadata": {
    "collapsed": true,
    "ExecuteTime": {
     "end_time": "2024-11-24T12:46:19.511328Z",
     "start_time": "2024-11-24T12:46:19.509005Z"
    }
   },
   "source": "import pandas as pd",
   "outputs": [],
   "execution_count": 12
  },
  {
   "metadata": {
    "ExecuteTime": {
     "end_time": "2024-11-24T12:46:19.527203Z",
     "start_time": "2024-11-24T12:46:19.521439Z"
    }
   },
   "cell_type": "code",
   "source": [
    "df = pd.read_csv('data/test_data.csv')\n",
    "df"
   ],
   "id": "25a1437b40a5fbda",
   "outputs": [
    {
     "data": {
      "text/plain": [
       "   Page Number                                            Content\n",
       "0       Page 1  ==== C:/Users/Kassem Anis/OneDrive - Debreceni...\n",
       "1       Page 2  vulnerability management is to assess each mit...\n",
       "2       Page 3  ==== C:/Users/Kassem Anis/OneDrive - Debreceni...\n",
       "3       Page 4  ==== C:/Users/Kassem Anis/OneDrive - Debreceni...\n",
       "4       Page 5  open the advanced Task wizard dialog in this d...\n",
       "5       Page 6  list and type Apache in the search box and sel...\n",
       "6       Page 7  the openvas agrees with that assessment a seve...\n",
       "7       Page 8  through these various sources of security info...\n",
       "8       Page 9  related resources and articles searching the d...\n",
       "9      Page 10  ==== C:/Users/Kassem Anis/OneDrive - Debreceni...\n",
       "10     Page 11  formulas to determine expected loss each risk ...\n",
       "11     Page 12  is an agreement between an account holder and ...\n",
       "12     Page 13  environment will likely change the overall sec...\n",
       "13     Page 14  BCP organisations who have proper plans in pla...\n",
       "14     Page 15  is often desirable geographically separated ba...\n",
       "15     Page 16  within the context of the data center can help..."
      ],
      "text/html": [
       "<div>\n",
       "<style scoped>\n",
       "    .dataframe tbody tr th:only-of-type {\n",
       "        vertical-align: middle;\n",
       "    }\n",
       "\n",
       "    .dataframe tbody tr th {\n",
       "        vertical-align: top;\n",
       "    }\n",
       "\n",
       "    .dataframe thead th {\n",
       "        text-align: right;\n",
       "    }\n",
       "</style>\n",
       "<table border=\"1\" class=\"dataframe\">\n",
       "  <thead>\n",
       "    <tr style=\"text-align: right;\">\n",
       "      <th></th>\n",
       "      <th>Page Number</th>\n",
       "      <th>Content</th>\n",
       "    </tr>\n",
       "  </thead>\n",
       "  <tbody>\n",
       "    <tr>\n",
       "      <th>0</th>\n",
       "      <td>Page 1</td>\n",
       "      <td>==== C:/Users/Kassem Anis/OneDrive - Debreceni...</td>\n",
       "    </tr>\n",
       "    <tr>\n",
       "      <th>1</th>\n",
       "      <td>Page 2</td>\n",
       "      <td>vulnerability management is to assess each mit...</td>\n",
       "    </tr>\n",
       "    <tr>\n",
       "      <th>2</th>\n",
       "      <td>Page 3</td>\n",
       "      <td>==== C:/Users/Kassem Anis/OneDrive - Debreceni...</td>\n",
       "    </tr>\n",
       "    <tr>\n",
       "      <th>3</th>\n",
       "      <td>Page 4</td>\n",
       "      <td>==== C:/Users/Kassem Anis/OneDrive - Debreceni...</td>\n",
       "    </tr>\n",
       "    <tr>\n",
       "      <th>4</th>\n",
       "      <td>Page 5</td>\n",
       "      <td>open the advanced Task wizard dialog in this d...</td>\n",
       "    </tr>\n",
       "    <tr>\n",
       "      <th>5</th>\n",
       "      <td>Page 6</td>\n",
       "      <td>list and type Apache in the search box and sel...</td>\n",
       "    </tr>\n",
       "    <tr>\n",
       "      <th>6</th>\n",
       "      <td>Page 7</td>\n",
       "      <td>the openvas agrees with that assessment a seve...</td>\n",
       "    </tr>\n",
       "    <tr>\n",
       "      <th>7</th>\n",
       "      <td>Page 8</td>\n",
       "      <td>through these various sources of security info...</td>\n",
       "    </tr>\n",
       "    <tr>\n",
       "      <th>8</th>\n",
       "      <td>Page 9</td>\n",
       "      <td>related resources and articles searching the d...</td>\n",
       "    </tr>\n",
       "    <tr>\n",
       "      <th>9</th>\n",
       "      <td>Page 10</td>\n",
       "      <td>==== C:/Users/Kassem Anis/OneDrive - Debreceni...</td>\n",
       "    </tr>\n",
       "    <tr>\n",
       "      <th>10</th>\n",
       "      <td>Page 11</td>\n",
       "      <td>formulas to determine expected loss each risk ...</td>\n",
       "    </tr>\n",
       "    <tr>\n",
       "      <th>11</th>\n",
       "      <td>Page 12</td>\n",
       "      <td>is an agreement between an account holder and ...</td>\n",
       "    </tr>\n",
       "    <tr>\n",
       "      <th>12</th>\n",
       "      <td>Page 13</td>\n",
       "      <td>environment will likely change the overall sec...</td>\n",
       "    </tr>\n",
       "    <tr>\n",
       "      <th>13</th>\n",
       "      <td>Page 14</td>\n",
       "      <td>BCP organisations who have proper plans in pla...</td>\n",
       "    </tr>\n",
       "    <tr>\n",
       "      <th>14</th>\n",
       "      <td>Page 15</td>\n",
       "      <td>is often desirable geographically separated ba...</td>\n",
       "    </tr>\n",
       "    <tr>\n",
       "      <th>15</th>\n",
       "      <td>Page 16</td>\n",
       "      <td>within the context of the data center can help...</td>\n",
       "    </tr>\n",
       "  </tbody>\n",
       "</table>\n",
       "</div>"
      ]
     },
     "execution_count": 13,
     "metadata": {},
     "output_type": "execute_result"
    }
   ],
   "execution_count": 13
  },
  {
   "metadata": {
    "ExecuteTime": {
     "end_time": "2024-11-24T12:46:19.552542Z",
     "start_time": "2024-11-24T12:46:19.549126Z"
    }
   },
   "cell_type": "code",
   "source": [
    "df['Content'] = df['Content'].apply(lambda x: x.lower())\n",
    "df.head()"
   ],
   "id": "7141de0ea4c0a89e",
   "outputs": [
    {
     "data": {
      "text/plain": [
       "  Page Number                                            Content\n",
       "0      Page 1  ==== c:/users/kassem anis/onedrive - debreceni...\n",
       "1      Page 2  vulnerability management is to assess each mit...\n",
       "2      Page 3  ==== c:/users/kassem anis/onedrive - debreceni...\n",
       "3      Page 4  ==== c:/users/kassem anis/onedrive - debreceni...\n",
       "4      Page 5  open the advanced task wizard dialog in this d..."
      ],
      "text/html": [
       "<div>\n",
       "<style scoped>\n",
       "    .dataframe tbody tr th:only-of-type {\n",
       "        vertical-align: middle;\n",
       "    }\n",
       "\n",
       "    .dataframe tbody tr th {\n",
       "        vertical-align: top;\n",
       "    }\n",
       "\n",
       "    .dataframe thead th {\n",
       "        text-align: right;\n",
       "    }\n",
       "</style>\n",
       "<table border=\"1\" class=\"dataframe\">\n",
       "  <thead>\n",
       "    <tr style=\"text-align: right;\">\n",
       "      <th></th>\n",
       "      <th>Page Number</th>\n",
       "      <th>Content</th>\n",
       "    </tr>\n",
       "  </thead>\n",
       "  <tbody>\n",
       "    <tr>\n",
       "      <th>0</th>\n",
       "      <td>Page 1</td>\n",
       "      <td>==== c:/users/kassem anis/onedrive - debreceni...</td>\n",
       "    </tr>\n",
       "    <tr>\n",
       "      <th>1</th>\n",
       "      <td>Page 2</td>\n",
       "      <td>vulnerability management is to assess each mit...</td>\n",
       "    </tr>\n",
       "    <tr>\n",
       "      <th>2</th>\n",
       "      <td>Page 3</td>\n",
       "      <td>==== c:/users/kassem anis/onedrive - debreceni...</td>\n",
       "    </tr>\n",
       "    <tr>\n",
       "      <th>3</th>\n",
       "      <td>Page 4</td>\n",
       "      <td>==== c:/users/kassem anis/onedrive - debreceni...</td>\n",
       "    </tr>\n",
       "    <tr>\n",
       "      <th>4</th>\n",
       "      <td>Page 5</td>\n",
       "      <td>open the advanced task wizard dialog in this d...</td>\n",
       "    </tr>\n",
       "  </tbody>\n",
       "</table>\n",
       "</div>"
      ]
     },
     "execution_count": 14,
     "metadata": {},
     "output_type": "execute_result"
    }
   ],
   "execution_count": 14
  },
  {
   "metadata": {
    "ExecuteTime": {
     "end_time": "2024-11-24T12:46:19.594661Z",
     "start_time": "2024-11-24T12:46:19.587994Z"
    }
   },
   "cell_type": "code",
   "source": [
    "import nltk\n",
    "import string\n",
    "\n",
    "nltk.download('punkt')\n",
    "\n",
    "def remove_punctuation(text):\n",
    "    translator = str.maketrans('', '', string.punctuation)\n",
    "    return text.translate(translator)\n",
    "\n",
    "from tqdm import tqdm\n",
    "\n",
    "for i in tqdm(range(len(df))):\n",
    "    df.loc[i, 'Content'] = remove_punctuation(df.loc[i, 'Content'])\n",
    "df.head()"
   ],
   "id": "75386e491412220c",
   "outputs": [
    {
     "name": "stderr",
     "output_type": "stream",
     "text": [
      "[nltk_data] Downloading package punkt to\n",
      "[nltk_data]     /Users/zafiraibraeva/nltk_data...\n",
      "[nltk_data]   Package punkt is already up-to-date!\n",
      "100%|██████████| 16/16 [00:00<00:00, 8403.31it/s]\n"
     ]
    },
    {
     "data": {
      "text/plain": [
       "  Page Number                                            Content\n",
       "0      Page 1   cuserskassem anisonedrive  debreceni\\negyetem...\n",
       "1      Page 2  vulnerability management is to assess each mit...\n",
       "2      Page 3   cuserskassem anisonedrive  debreceni\\negyetem...\n",
       "3      Page 4   cuserskassem anisonedrive  debreceni\\negyetem...\n",
       "4      Page 5  open the advanced task wizard dialog in this d..."
      ],
      "text/html": [
       "<div>\n",
       "<style scoped>\n",
       "    .dataframe tbody tr th:only-of-type {\n",
       "        vertical-align: middle;\n",
       "    }\n",
       "\n",
       "    .dataframe tbody tr th {\n",
       "        vertical-align: top;\n",
       "    }\n",
       "\n",
       "    .dataframe thead th {\n",
       "        text-align: right;\n",
       "    }\n",
       "</style>\n",
       "<table border=\"1\" class=\"dataframe\">\n",
       "  <thead>\n",
       "    <tr style=\"text-align: right;\">\n",
       "      <th></th>\n",
       "      <th>Page Number</th>\n",
       "      <th>Content</th>\n",
       "    </tr>\n",
       "  </thead>\n",
       "  <tbody>\n",
       "    <tr>\n",
       "      <th>0</th>\n",
       "      <td>Page 1</td>\n",
       "      <td>cuserskassem anisonedrive  debreceni\\negyetem...</td>\n",
       "    </tr>\n",
       "    <tr>\n",
       "      <th>1</th>\n",
       "      <td>Page 2</td>\n",
       "      <td>vulnerability management is to assess each mit...</td>\n",
       "    </tr>\n",
       "    <tr>\n",
       "      <th>2</th>\n",
       "      <td>Page 3</td>\n",
       "      <td>cuserskassem anisonedrive  debreceni\\negyetem...</td>\n",
       "    </tr>\n",
       "    <tr>\n",
       "      <th>3</th>\n",
       "      <td>Page 4</td>\n",
       "      <td>cuserskassem anisonedrive  debreceni\\negyetem...</td>\n",
       "    </tr>\n",
       "    <tr>\n",
       "      <th>4</th>\n",
       "      <td>Page 5</td>\n",
       "      <td>open the advanced task wizard dialog in this d...</td>\n",
       "    </tr>\n",
       "  </tbody>\n",
       "</table>\n",
       "</div>"
      ]
     },
     "execution_count": 15,
     "metadata": {},
     "output_type": "execute_result"
    }
   ],
   "execution_count": 15
  },
  {
   "metadata": {
    "ExecuteTime": {
     "end_time": "2024-11-24T12:46:19.638567Z",
     "start_time": "2024-11-24T12:46:19.633631Z"
    }
   },
   "cell_type": "code",
   "source": [
    "def remove_numbers(text):\n",
    "    result = ''.join([i for i in text if not i.isdigit()])\n",
    "    return result\n",
    "\n",
    "df['Content'] = df['Content'].apply(lambda x: remove_numbers(x))\n",
    "df.head()"
   ],
   "id": "a293652a9fd72b54",
   "outputs": [
    {
     "data": {
      "text/plain": [
       "  Page Number                                            Content\n",
       "0      Page 1   cuserskassem anisonedrive  debreceni\\negyetem...\n",
       "1      Page 2  vulnerability management is to assess each mit...\n",
       "2      Page 3   cuserskassem anisonedrive  debreceni\\negyetem...\n",
       "3      Page 4   cuserskassem anisonedrive  debreceni\\negyetem...\n",
       "4      Page 5  open the advanced task wizard dialog in this d..."
      ],
      "text/html": [
       "<div>\n",
       "<style scoped>\n",
       "    .dataframe tbody tr th:only-of-type {\n",
       "        vertical-align: middle;\n",
       "    }\n",
       "\n",
       "    .dataframe tbody tr th {\n",
       "        vertical-align: top;\n",
       "    }\n",
       "\n",
       "    .dataframe thead th {\n",
       "        text-align: right;\n",
       "    }\n",
       "</style>\n",
       "<table border=\"1\" class=\"dataframe\">\n",
       "  <thead>\n",
       "    <tr style=\"text-align: right;\">\n",
       "      <th></th>\n",
       "      <th>Page Number</th>\n",
       "      <th>Content</th>\n",
       "    </tr>\n",
       "  </thead>\n",
       "  <tbody>\n",
       "    <tr>\n",
       "      <th>0</th>\n",
       "      <td>Page 1</td>\n",
       "      <td>cuserskassem anisonedrive  debreceni\\negyetem...</td>\n",
       "    </tr>\n",
       "    <tr>\n",
       "      <th>1</th>\n",
       "      <td>Page 2</td>\n",
       "      <td>vulnerability management is to assess each mit...</td>\n",
       "    </tr>\n",
       "    <tr>\n",
       "      <th>2</th>\n",
       "      <td>Page 3</td>\n",
       "      <td>cuserskassem anisonedrive  debreceni\\negyetem...</td>\n",
       "    </tr>\n",
       "    <tr>\n",
       "      <th>3</th>\n",
       "      <td>Page 4</td>\n",
       "      <td>cuserskassem anisonedrive  debreceni\\negyetem...</td>\n",
       "    </tr>\n",
       "    <tr>\n",
       "      <th>4</th>\n",
       "      <td>Page 5</td>\n",
       "      <td>open the advanced task wizard dialog in this d...</td>\n",
       "    </tr>\n",
       "  </tbody>\n",
       "</table>\n",
       "</div>"
      ]
     },
     "execution_count": 16,
     "metadata": {},
     "output_type": "execute_result"
    }
   ],
   "execution_count": 16
  },
  {
   "metadata": {
    "ExecuteTime": {
     "end_time": "2024-11-24T12:46:19.790187Z",
     "start_time": "2024-11-24T12:46:19.772376Z"
    }
   },
   "cell_type": "code",
   "source": [
    "from nltk.corpus import stopwords\n",
    "from nltk.tokenize import word_tokenize\n",
    "nltk.download('stopwords')\n",
    "nltk.download('punkt_tab')\n",
    "\n",
    "def remove_stopwords(text):\n",
    "    stop_words = set(stopwords.words('english'))\n",
    "    word_tokens = word_tokenize(text)\n",
    "    \n",
    "    filtered_sentence = [w for w in word_tokens if not w.lower() in stop_words]\n",
    "    return ' '.join(filtered_sentence)\n",
    "tqdm.pandas()\n",
    "df['Content'] = df['Content'].progress_apply(lambda x: remove_stopwords(x))\n",
    "df.head()"
   ],
   "id": "5ba1ee0aa3ab568b",
   "outputs": [
    {
     "name": "stderr",
     "output_type": "stream",
     "text": [
      "[nltk_data] Downloading package stopwords to\n",
      "[nltk_data]     /Users/zafiraibraeva/nltk_data...\n",
      "[nltk_data]   Package stopwords is already up-to-date!\n",
      "[nltk_data] Downloading package punkt_tab to\n",
      "[nltk_data]     /Users/zafiraibraeva/nltk_data...\n",
      "[nltk_data]   Package punkt_tab is already up-to-date!\n",
      "100%|██████████| 16/16 [00:00<00:00, 1261.92it/s]\n"
     ]
    },
    {
     "data": {
      "text/plain": [
       "  Page Number                                            Content\n",
       "0      Page 1  cuserskassem anisonedrive debreceni egyetemasz...\n",
       "1      Page 2  vulnerability management assess mitigation ens...\n",
       "2      Page 3  cuserskassem anisonedrive debreceni egyetemasz...\n",
       "3      Page 4  cuserskassem anisonedrive debreceni egyetemasz...\n",
       "4      Page 5  open advanced task wizard dialog dialogue init..."
      ],
      "text/html": [
       "<div>\n",
       "<style scoped>\n",
       "    .dataframe tbody tr th:only-of-type {\n",
       "        vertical-align: middle;\n",
       "    }\n",
       "\n",
       "    .dataframe tbody tr th {\n",
       "        vertical-align: top;\n",
       "    }\n",
       "\n",
       "    .dataframe thead th {\n",
       "        text-align: right;\n",
       "    }\n",
       "</style>\n",
       "<table border=\"1\" class=\"dataframe\">\n",
       "  <thead>\n",
       "    <tr style=\"text-align: right;\">\n",
       "      <th></th>\n",
       "      <th>Page Number</th>\n",
       "      <th>Content</th>\n",
       "    </tr>\n",
       "  </thead>\n",
       "  <tbody>\n",
       "    <tr>\n",
       "      <th>0</th>\n",
       "      <td>Page 1</td>\n",
       "      <td>cuserskassem anisonedrive debreceni egyetemasz...</td>\n",
       "    </tr>\n",
       "    <tr>\n",
       "      <th>1</th>\n",
       "      <td>Page 2</td>\n",
       "      <td>vulnerability management assess mitigation ens...</td>\n",
       "    </tr>\n",
       "    <tr>\n",
       "      <th>2</th>\n",
       "      <td>Page 3</td>\n",
       "      <td>cuserskassem anisonedrive debreceni egyetemasz...</td>\n",
       "    </tr>\n",
       "    <tr>\n",
       "      <th>3</th>\n",
       "      <td>Page 4</td>\n",
       "      <td>cuserskassem anisonedrive debreceni egyetemasz...</td>\n",
       "    </tr>\n",
       "    <tr>\n",
       "      <th>4</th>\n",
       "      <td>Page 5</td>\n",
       "      <td>open advanced task wizard dialog dialogue init...</td>\n",
       "    </tr>\n",
       "  </tbody>\n",
       "</table>\n",
       "</div>"
      ]
     },
     "execution_count": 17,
     "metadata": {},
     "output_type": "execute_result"
    }
   ],
   "execution_count": 17
  },
  {
   "metadata": {
    "ExecuteTime": {
     "end_time": "2024-11-24T12:46:19.822157Z",
     "start_time": "2024-11-24T12:46:19.820440Z"
    }
   },
   "cell_type": "code",
   "source": [
    "# from nltk.stem import PorterStemmer\n",
    "# \n",
    "# def stem_text(text):\n",
    "#     stemmer = PorterStemmer()\n",
    "#     word_tokens = word_tokenize(text)\n",
    "#     \n",
    "#     stemmed_sentence = [stemmer.stem(w) for w in word_tokens]\n",
    "#     return ' '.join(stemmed_sentence)\n",
    "# tqdm.pandas()\n",
    "# df['Content'] = df['Content'].progress_apply(lambda x: stem_text(x))\n",
    "# df.head()"
   ],
   "id": "5c2be8e8d3f7144a",
   "outputs": [],
   "execution_count": 18
  },
  {
   "metadata": {
    "ExecuteTime": {
     "end_time": "2024-11-24T12:46:19.863972Z",
     "start_time": "2024-11-24T12:46:19.844290Z"
    }
   },
   "cell_type": "code",
   "source": [
    "nltk.download('wordnet')\n",
    "from nltk.stem import WordNetLemmatizer\n",
    "\n",
    "def lemmatize_text(text):\n",
    "    lemmatizer = WordNetLemmatizer()\n",
    "    word_tokens = word_tokenize(text)\n",
    "    \n",
    "    lemmatized_text = [lemmatizer.lemmatize(w) for w in word_tokens]\n",
    "    return ' '.join(lemmatized_text)\n",
    "\n",
    "tqdm.pandas()\n",
    "df['Content'] = df['Content'].progress_apply(lambda x: lemmatize_text(x))\n",
    "df.head()"
   ],
   "id": "5f6153aa15017879",
   "outputs": [
    {
     "name": "stderr",
     "output_type": "stream",
     "text": [
      "[nltk_data] Downloading package wordnet to\n",
      "[nltk_data]     /Users/zafiraibraeva/nltk_data...\n",
      "[nltk_data]   Package wordnet is already up-to-date!\n",
      "100%|██████████| 16/16 [00:00<00:00, 1122.32it/s]\n"
     ]
    },
    {
     "data": {
      "text/plain": [
       "  Page Number                                            Content\n",
       "0      Page 1  cuserskassem anisonedrive debreceni egyetemasz...\n",
       "1      Page 2  vulnerability management assess mitigation ens...\n",
       "2      Page 3  cuserskassem anisonedrive debreceni egyetemasz...\n",
       "3      Page 4  cuserskassem anisonedrive debreceni egyetemasz...\n",
       "4      Page 5  open advanced task wizard dialog dialogue init..."
      ],
      "text/html": [
       "<div>\n",
       "<style scoped>\n",
       "    .dataframe tbody tr th:only-of-type {\n",
       "        vertical-align: middle;\n",
       "    }\n",
       "\n",
       "    .dataframe tbody tr th {\n",
       "        vertical-align: top;\n",
       "    }\n",
       "\n",
       "    .dataframe thead th {\n",
       "        text-align: right;\n",
       "    }\n",
       "</style>\n",
       "<table border=\"1\" class=\"dataframe\">\n",
       "  <thead>\n",
       "    <tr style=\"text-align: right;\">\n",
       "      <th></th>\n",
       "      <th>Page Number</th>\n",
       "      <th>Content</th>\n",
       "    </tr>\n",
       "  </thead>\n",
       "  <tbody>\n",
       "    <tr>\n",
       "      <th>0</th>\n",
       "      <td>Page 1</td>\n",
       "      <td>cuserskassem anisonedrive debreceni egyetemasz...</td>\n",
       "    </tr>\n",
       "    <tr>\n",
       "      <th>1</th>\n",
       "      <td>Page 2</td>\n",
       "      <td>vulnerability management assess mitigation ens...</td>\n",
       "    </tr>\n",
       "    <tr>\n",
       "      <th>2</th>\n",
       "      <td>Page 3</td>\n",
       "      <td>cuserskassem anisonedrive debreceni egyetemasz...</td>\n",
       "    </tr>\n",
       "    <tr>\n",
       "      <th>3</th>\n",
       "      <td>Page 4</td>\n",
       "      <td>cuserskassem anisonedrive debreceni egyetemasz...</td>\n",
       "    </tr>\n",
       "    <tr>\n",
       "      <th>4</th>\n",
       "      <td>Page 5</td>\n",
       "      <td>open advanced task wizard dialog dialogue init...</td>\n",
       "    </tr>\n",
       "  </tbody>\n",
       "</table>\n",
       "</div>"
      ]
     },
     "execution_count": 19,
     "metadata": {},
     "output_type": "execute_result"
    }
   ],
   "execution_count": 19
  },
  {
   "metadata": {
    "ExecuteTime": {
     "end_time": "2024-11-24T12:46:19.889980Z",
     "start_time": "2024-11-24T12:46:19.885939Z"
    }
   },
   "cell_type": "code",
   "source": "df.to_csv('data/test_data_norm.csv', index=False)",
   "id": "a269f252cf7dffa1",
   "outputs": [],
   "execution_count": 20
  },
  {
   "metadata": {
    "ExecuteTime": {
     "end_time": "2024-11-24T12:47:05.590055Z",
     "start_time": "2024-11-24T12:46:59.770600Z"
    }
   },
   "cell_type": "code",
   "source": [
    "from collections import Counter\n",
    "from keybert import KeyBERT\n",
    "from tqdm import tqdm\n",
    "import pandas as pd\n",
    "\n",
    "df = pd.read_csv('data/test_data_norm.csv')\n",
    "\n",
    "kw_model = KeyBERT('sentence-transformers/all-MiniLM-L6-v2') \n",
    "\n",
    "def generate_tags(text, model, num_tags=3):\n",
    "    try:\n",
    "        keywords = model.extract_keywords(text, keyphrase_ngram_range=(1, 2), stop_words='english', top_n=num_tags)\n",
    "        return [kw[0] for kw in keywords]\n",
    "    except Exception as e:\n",
    "        return []\n",
    "\n",
    "tqdm.pandas()\n",
    "df['Tags'] = df['Content'].progress_apply(lambda x: generate_tags(x, kw_model, num_tags=3))\n",
    "\n",
    "all_tags = [tag for tags in df['Tags'] for tag in tags]\n",
    "top_tags = [tag for tag, count in Counter(all_tags).most_common(3)]\n",
    "\n",
    "print(\"Top Tags for the Entire File:\", top_tags)\n",
    "df.head()"
   ],
   "id": "9e55a198eed82017",
   "outputs": [
    {
     "name": "stderr",
     "output_type": "stream",
     "text": [
      "100%|██████████| 16/16 [00:04<00:00,  3.87it/s]"
     ]
    },
    {
     "name": "stdout",
     "output_type": "stream",
     "text": [
      "Top Tags for the Entire File: ['vulnerability management', 'vulnerability identification', 'vulnerability managing']\n"
     ]
    },
    {
     "name": "stderr",
     "output_type": "stream",
     "text": [
      "\n"
     ]
    },
    {
     "data": {
      "text/plain": [
       "  Page Number                                            Content  \\\n",
       "0      Page 1  cuserskassem anisonedrive debreceni egyetemasz...   \n",
       "1      Page 2  vulnerability management assess mitigation ens...   \n",
       "2      Page 3  cuserskassem anisonedrive debreceni egyetemasz...   \n",
       "3      Page 4  cuserskassem anisonedrive debreceni egyetemasz...   \n",
       "4      Page 5  open advanced task wizard dialog dialogue init...   \n",
       "\n",
       "                                                Tags  \n",
       "0  [vulnerability managing, vulnerability managem...  \n",
       "1  [vulnerability management, environment cyberse...  \n",
       "2       [map utility, like netcat, information tool]  \n",
       "3  [vulnerability identification, security manage...  \n",
       "4  [discovering vulnerability, vulnerability mana...  "
      ],
      "text/html": [
       "<div>\n",
       "<style scoped>\n",
       "    .dataframe tbody tr th:only-of-type {\n",
       "        vertical-align: middle;\n",
       "    }\n",
       "\n",
       "    .dataframe tbody tr th {\n",
       "        vertical-align: top;\n",
       "    }\n",
       "\n",
       "    .dataframe thead th {\n",
       "        text-align: right;\n",
       "    }\n",
       "</style>\n",
       "<table border=\"1\" class=\"dataframe\">\n",
       "  <thead>\n",
       "    <tr style=\"text-align: right;\">\n",
       "      <th></th>\n",
       "      <th>Page Number</th>\n",
       "      <th>Content</th>\n",
       "      <th>Tags</th>\n",
       "    </tr>\n",
       "  </thead>\n",
       "  <tbody>\n",
       "    <tr>\n",
       "      <th>0</th>\n",
       "      <td>Page 1</td>\n",
       "      <td>cuserskassem anisonedrive debreceni egyetemasz...</td>\n",
       "      <td>[vulnerability managing, vulnerability managem...</td>\n",
       "    </tr>\n",
       "    <tr>\n",
       "      <th>1</th>\n",
       "      <td>Page 2</td>\n",
       "      <td>vulnerability management assess mitigation ens...</td>\n",
       "      <td>[vulnerability management, environment cyberse...</td>\n",
       "    </tr>\n",
       "    <tr>\n",
       "      <th>2</th>\n",
       "      <td>Page 3</td>\n",
       "      <td>cuserskassem anisonedrive debreceni egyetemasz...</td>\n",
       "      <td>[map utility, like netcat, information tool]</td>\n",
       "    </tr>\n",
       "    <tr>\n",
       "      <th>3</th>\n",
       "      <td>Page 4</td>\n",
       "      <td>cuserskassem anisonedrive debreceni egyetemasz...</td>\n",
       "      <td>[vulnerability identification, security manage...</td>\n",
       "    </tr>\n",
       "    <tr>\n",
       "      <th>4</th>\n",
       "      <td>Page 5</td>\n",
       "      <td>open advanced task wizard dialog dialogue init...</td>\n",
       "      <td>[discovering vulnerability, vulnerability mana...</td>\n",
       "    </tr>\n",
       "  </tbody>\n",
       "</table>\n",
       "</div>"
      ]
     },
     "execution_count": 22,
     "metadata": {},
     "output_type": "execute_result"
    }
   ],
   "execution_count": 22
  },
  {
   "metadata": {
    "ExecuteTime": {
     "end_time": "2024-11-24T12:46:30.545504Z",
     "start_time": "2024-11-24T12:46:30.537559Z"
    }
   },
   "cell_type": "code",
   "source": "",
   "id": "d57f64cb681e197f",
   "outputs": [],
   "execution_count": null
  }
 ],
 "metadata": {
  "kernelspec": {
   "display_name": "Python 3",
   "language": "python",
   "name": "python3"
  },
  "language_info": {
   "codemirror_mode": {
    "name": "ipython",
    "version": 2
   },
   "file_extension": ".py",
   "mimetype": "text/x-python",
   "name": "python",
   "nbconvert_exporter": "python",
   "pygments_lexer": "ipython2",
   "version": "2.7.6"
  }
 },
 "nbformat": 4,
 "nbformat_minor": 5
}
