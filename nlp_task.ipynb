{
 "cells": [
  {
   "cell_type": "code",
   "id": "initial_id",
   "metadata": {
    "collapsed": true,
    "ExecuteTime": {
     "end_time": "2024-11-17T12:49:35.202304Z",
     "start_time": "2024-11-17T12:49:27.890595Z"
    }
   },
   "source": "import pandas as pd",
   "outputs": [],
   "execution_count": 2
  },
  {
   "metadata": {
    "ExecuteTime": {
     "end_time": "2024-11-17T12:50:24.253968Z",
     "start_time": "2024-11-17T12:50:24.245146Z"
    }
   },
   "cell_type": "code",
   "source": [
    "df = pd.read_csv('data/test_data.csv')\n",
    "df"
   ],
   "id": "25a1437b40a5fbda",
   "outputs": [
    {
     "data": {
      "text/plain": [
       "   Page Number                                            Content\n",
       "0       Page 1  ==== C:/Users/Kassem Anis/OneDrive - Debreceni...\n",
       "1       Page 2  vulnerability management is to assess each mit...\n",
       "2       Page 3  ==== C:/Users/Kassem Anis/OneDrive - Debreceni...\n",
       "3       Page 4  ==== C:/Users/Kassem Anis/OneDrive - Debreceni...\n",
       "4       Page 5  open the advanced Task wizard dialog in this d...\n",
       "5       Page 6  list and type Apache in the search box and sel...\n",
       "6       Page 7  the openvas agrees with that assessment a seve...\n",
       "7       Page 8  through these various sources of security info...\n",
       "8       Page 9  related resources and articles searching the d...\n",
       "9      Page 10  ==== C:/Users/Kassem Anis/OneDrive - Debreceni...\n",
       "10     Page 11  formulas to determine expected loss each risk ...\n",
       "11     Page 12  is an agreement between an account holder and ...\n",
       "12     Page 13  environment will likely change the overall sec...\n",
       "13     Page 14  BCP organisations who have proper plans in pla...\n",
       "14     Page 15  is often desirable geographically separated ba...\n",
       "15     Page 16  within the context of the data center can help..."
      ],
      "text/html": [
       "<div>\n",
       "<style scoped>\n",
       "    .dataframe tbody tr th:only-of-type {\n",
       "        vertical-align: middle;\n",
       "    }\n",
       "\n",
       "    .dataframe tbody tr th {\n",
       "        vertical-align: top;\n",
       "    }\n",
       "\n",
       "    .dataframe thead th {\n",
       "        text-align: right;\n",
       "    }\n",
       "</style>\n",
       "<table border=\"1\" class=\"dataframe\">\n",
       "  <thead>\n",
       "    <tr style=\"text-align: right;\">\n",
       "      <th></th>\n",
       "      <th>Page Number</th>\n",
       "      <th>Content</th>\n",
       "    </tr>\n",
       "  </thead>\n",
       "  <tbody>\n",
       "    <tr>\n",
       "      <th>0</th>\n",
       "      <td>Page 1</td>\n",
       "      <td>==== C:/Users/Kassem Anis/OneDrive - Debreceni...</td>\n",
       "    </tr>\n",
       "    <tr>\n",
       "      <th>1</th>\n",
       "      <td>Page 2</td>\n",
       "      <td>vulnerability management is to assess each mit...</td>\n",
       "    </tr>\n",
       "    <tr>\n",
       "      <th>2</th>\n",
       "      <td>Page 3</td>\n",
       "      <td>==== C:/Users/Kassem Anis/OneDrive - Debreceni...</td>\n",
       "    </tr>\n",
       "    <tr>\n",
       "      <th>3</th>\n",
       "      <td>Page 4</td>\n",
       "      <td>==== C:/Users/Kassem Anis/OneDrive - Debreceni...</td>\n",
       "    </tr>\n",
       "    <tr>\n",
       "      <th>4</th>\n",
       "      <td>Page 5</td>\n",
       "      <td>open the advanced Task wizard dialog in this d...</td>\n",
       "    </tr>\n",
       "    <tr>\n",
       "      <th>5</th>\n",
       "      <td>Page 6</td>\n",
       "      <td>list and type Apache in the search box and sel...</td>\n",
       "    </tr>\n",
       "    <tr>\n",
       "      <th>6</th>\n",
       "      <td>Page 7</td>\n",
       "      <td>the openvas agrees with that assessment a seve...</td>\n",
       "    </tr>\n",
       "    <tr>\n",
       "      <th>7</th>\n",
       "      <td>Page 8</td>\n",
       "      <td>through these various sources of security info...</td>\n",
       "    </tr>\n",
       "    <tr>\n",
       "      <th>8</th>\n",
       "      <td>Page 9</td>\n",
       "      <td>related resources and articles searching the d...</td>\n",
       "    </tr>\n",
       "    <tr>\n",
       "      <th>9</th>\n",
       "      <td>Page 10</td>\n",
       "      <td>==== C:/Users/Kassem Anis/OneDrive - Debreceni...</td>\n",
       "    </tr>\n",
       "    <tr>\n",
       "      <th>10</th>\n",
       "      <td>Page 11</td>\n",
       "      <td>formulas to determine expected loss each risk ...</td>\n",
       "    </tr>\n",
       "    <tr>\n",
       "      <th>11</th>\n",
       "      <td>Page 12</td>\n",
       "      <td>is an agreement between an account holder and ...</td>\n",
       "    </tr>\n",
       "    <tr>\n",
       "      <th>12</th>\n",
       "      <td>Page 13</td>\n",
       "      <td>environment will likely change the overall sec...</td>\n",
       "    </tr>\n",
       "    <tr>\n",
       "      <th>13</th>\n",
       "      <td>Page 14</td>\n",
       "      <td>BCP organisations who have proper plans in pla...</td>\n",
       "    </tr>\n",
       "    <tr>\n",
       "      <th>14</th>\n",
       "      <td>Page 15</td>\n",
       "      <td>is often desirable geographically separated ba...</td>\n",
       "    </tr>\n",
       "    <tr>\n",
       "      <th>15</th>\n",
       "      <td>Page 16</td>\n",
       "      <td>within the context of the data center can help...</td>\n",
       "    </tr>\n",
       "  </tbody>\n",
       "</table>\n",
       "</div>"
      ]
     },
     "execution_count": 3,
     "metadata": {},
     "output_type": "execute_result"
    }
   ],
   "execution_count": 3
  },
  {
   "metadata": {},
   "cell_type": "code",
   "outputs": [],
   "execution_count": null,
   "source": "",
   "id": "7141de0ea4c0a89e"
  }
 ],
 "metadata": {
  "kernelspec": {
   "display_name": "Python 3",
   "language": "python",
   "name": "python3"
  },
  "language_info": {
   "codemirror_mode": {
    "name": "ipython",
    "version": 2
   },
   "file_extension": ".py",
   "mimetype": "text/x-python",
   "name": "python",
   "nbconvert_exporter": "python",
   "pygments_lexer": "ipython2",
   "version": "2.7.6"
  }
 },
 "nbformat": 4,
 "nbformat_minor": 5
}
